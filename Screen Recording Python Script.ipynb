{
 "cells": [
  {
   "cell_type": "code",
   "execution_count": 1,
   "id": "e24bcad1",
   "metadata": {},
   "outputs": [],
   "source": [
    "import cv2\n",
    "import numpy as np\n",
    "import pyautogui"
   ]
  },
  {
   "cell_type": "code",
   "execution_count": 3,
   "id": "da2a5881",
   "metadata": {},
   "outputs": [
    {
     "name": "stdout",
     "output_type": "stream",
     "text": [
      "Screen recording complete.\n"
     ]
    }
   ],
   "source": [
    "# Set the screen resolution to record\n",
    "screen_width, screen_height = pyautogui.size()\n",
    "resolution = (screen_width, screen_height)\n",
    "\n",
    "# Customizations\n",
    "output_filename = \"custom_screen_recording.mp4\"  # Change the output filename\n",
    "fps = 24.0  # Adjust the frame rate\n",
    "left, top, width, height = 100, 100, 800, 600  # Define the region to capture\n",
    "\n",
    "# Define the codec and create VideoWriter object\n",
    "fourcc = cv2.VideoWriter_fourcc(*\"mp4v\")\n",
    "out = cv2.VideoWriter(output_filename, fourcc, fps, (width, height))\n",
    "\n",
    "# Define the recording duration in seconds\n",
    "recording_duration = 10  # Change this to the desired recording duration\n",
    "\n",
    "try:\n",
    "    # Start the screen recording\n",
    "    for _ in range(int(fps * recording_duration)):\n",
    "        # Capture the screen within the specified region\n",
    "        screen = pyautogui.screenshot(region=(left, top, width, height))\n",
    "\n",
    "        # Convert the screenshot to a numpy array and BGR format for OpenCV\n",
    "        frame = np.array(screen)\n",
    "        frame = cv2.cvtColor(frame, cv2.COLOR_RGB2BGR)\n",
    "\n",
    "        # Write the frame to the output video\n",
    "        out.write(frame)\n",
    "\n",
    "    print(\"Screen recording complete.\")\n",
    "except Exception as e:\n",
    "    print(f\"An error occurred: {str(e)}\")\n",
    "finally:\n",
    "    # Release the VideoWriter\n",
    "    out.release()"
   ]
  }
 ],
 "metadata": {
  "kernelspec": {
   "display_name": "Python 3 (ipykernel)",
   "language": "python",
   "name": "python3"
  },
  "language_info": {
   "codemirror_mode": {
    "name": "ipython",
    "version": 3
   },
   "file_extension": ".py",
   "mimetype": "text/x-python",
   "name": "python",
   "nbconvert_exporter": "python",
   "pygments_lexer": "ipython3",
   "version": "3.10.11"
  }
 },
 "nbformat": 4,
 "nbformat_minor": 5
}
